{
  "nbformat": 4,
  "nbformat_minor": 0,
  "metadata": {
    "colab": {
      "provenance": [],
      "authorship_tag": "ABX9TyPmceDIl7FqPLBC1gucf0dz"
    },
    "kernelspec": {
      "name": "python3",
      "display_name": "Python 3"
    },
    "language_info": {
      "name": "python"
    }
  },
  "cells": [
    {
      "cell_type": "code",
      "source": [
        "#Instalamos el paquete para usar NeuralProphet\n",
        "!pip install neuralprophet matplotlib pandas -q\n",
        "\n",
        "#Importamos las librerías\n",
        "from neuralprophet import NeuralProphet\n",
        "import pandas as pd\n",
        "import matplotlib.pyplot as plt\n",
        "\n",
        "#Leemos los datos de mi Github\n",
        "file_path = \"https://raw.githubusercontent.com/AlmudenaCabello/AC_Modelos/refs/heads/main/monthly-car-salesNP(in).csv\"\n",
        "df = pd.read_csv(file_path)\n",
        "df[\"ds\"] = pd.to_datetime(df[\"ds\"])\n",
        "\n",
        "#Creamos el modelo\n",
        "model = NeuralProphet()\n",
        "model.fit(df, freq=\"M\")\n",
        "\n",
        "#Creamos la predicción\n",
        "future = model.make_future_dataframe(df, periods=30)\n",
        "forecast = model.predict(future)\n",
        "\n",
        "#Mostramos las predicciones\n",
        "print(\"Predicciones de Ventas:\")\n",
        "print(forecast[[\"ds\", \"yhat1\"]].head(30))\n",
        "\n",
        "# Creamos el gráfico\n",
        "plt.figure(figsize=(10, 5))\n",
        "plt.plot(df[\"ds\"], df[\"y\"], label=\"Datos reales\", marker=\"o\")\n",
        "plt.plot(forecast[\"ds\"], forecast[\"yhat1\"], label=\"Predicción\", linestyle=\"dashed\")\n",
        "plt.xlabel(\"Fecha\")\n",
        "plt.ylabel(\"Ventas\")\n",
        "plt.title(\"Predicción de Ventas con NeuralProphet\")\n",
        "plt.legend()\n",
        "plt.xticks(rotation=45)\n",
        "plt.grid()\n",
        "\n",
        "#Guardamos el gráfico como PDF accesible con texto seleccionable\n",
        "plt.savefig(\"prediccion_ventas.pdf\", format=\"pdf\")\n",
        "\n",
        "#Mostramos en la pantalla\n",
        "plt.show()"
      ],
      "metadata": {
        "id": "rA7SuynLUDSD"
      },
      "execution_count": null,
      "outputs": []
    }
  ]
}